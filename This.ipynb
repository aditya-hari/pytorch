{
 "cells": [
  {
   "cell_type": "code",
   "execution_count": 10,
   "metadata": {},
   "outputs": [],
   "source": [
    "import torch\n",
    "import torch.nn as nn\n",
    "import torch.nn.functional as F"
   ]
  },
  {
   "cell_type": "code",
   "execution_count": 6,
   "metadata": {},
   "outputs": [],
   "source": [
    "device = torch.device(\"cuda:0\")\n",
    "dtype = torch.float"
   ]
  },
  {
   "cell_type": "code",
   "execution_count": 3,
   "metadata": {},
   "outputs": [],
   "source": [
    "N, D_in, H, D_out = 64, 1000, 100, 10"
   ]
  },
  {
   "cell_type": "code",
   "execution_count": 19,
   "metadata": {},
   "outputs": [],
   "source": [
    "x = torch.randn(N, D_in, device = device, dtype = dtype).to(device)\n",
    "y = torch.randn(N, D_out, device = device, dtype = dtype).to(device)"
   ]
  },
  {
   "cell_type": "code",
   "execution_count": 27,
   "metadata": {},
   "outputs": [
    {
     "data": {
      "text/plain": [
       "net(\n",
       "  (linear1): Linear(in_features=1000, out_features=100, bias=True)\n",
       "  (linear2): Linear(in_features=100, out_features=10, bias=True)\n",
       ")"
      ]
     },
     "execution_count": 27,
     "metadata": {},
     "output_type": "execute_result"
    }
   ],
   "source": [
    "class net(nn.Module):\n",
    "    def __init__(self):\n",
    "        super(net, self).__init__()\n",
    "        self.linear1 = nn.Linear(D_in, H)\n",
    "        self.linear2 = nn.Linear(H, D_out)\n",
    "    \n",
    "    def forward(self, x):\n",
    "        x = self.linear1(x)\n",
    "        x = F.relu(x)\n",
    "        x = self.linear2(x)\n",
    "        \n",
    "        return x\n",
    "\n",
    "model = net()\n",
    "model.to(device)"
   ]
  },
  {
   "cell_type": "code",
   "execution_count": 28,
   "metadata": {},
   "outputs": [],
   "source": [
    "critereon = nn.MSELoss(reduction = \"sum\")\n",
    "optim = torch.optim.SGD(model.parameters(), lr = 1e-6, momentum = 0.9)"
   ]
  },
  {
   "cell_type": "code",
   "execution_count": 29,
   "metadata": {},
   "outputs": [
    {
     "name": "stdout",
     "output_type": "stream",
     "text": [
      "613.2039794921875\n",
      "540.56884765625\n",
      "478.7894592285156\n",
      "426.6756591796875\n",
      "381.5364990234375\n",
      "341.6080322265625\n",
      "305.9945983886719\n",
      "273.7930603027344\n",
      "244.9384765625\n",
      "218.9557647705078\n",
      "195.27578735351562\n",
      "173.72201538085938\n",
      "154.23007202148438\n",
      "136.73171997070312\n",
      "121.09501647949219\n",
      "107.16392517089844\n",
      "94.79319763183594\n",
      "83.8290786743164\n",
      "74.15507507324219\n",
      "65.62572479248047\n",
      "58.097412109375\n",
      "51.46971893310547\n",
      "45.64179992675781\n",
      "40.52079772949219\n",
      "36.018653869628906\n"
     ]
    }
   ],
   "source": [
    "for i in range(500):\n",
    "    out = model(x)\n",
    "    loss = critereon(out, y)\n",
    "    \n",
    "    if i%20 == 19:\n",
    "        print(loss.item())\n",
    "    \n",
    "    optim.zero_grad()\n",
    "    loss.backward()\n",
    "    optim.step()\n",
    "    "
   ]
  },
  {
   "cell_type": "code",
   "execution_count": null,
   "metadata": {},
   "outputs": [],
   "source": []
  }
 ],
 "metadata": {
  "kernelspec": {
   "display_name": "Python 3",
   "language": "python",
   "name": "python3"
  },
  "language_info": {
   "codemirror_mode": {
    "name": "ipython",
    "version": 3
   },
   "file_extension": ".py",
   "mimetype": "text/x-python",
   "name": "python",
   "nbconvert_exporter": "python",
   "pygments_lexer": "ipython3",
   "version": "3.7.6"
  }
 },
 "nbformat": 4,
 "nbformat_minor": 2
}
