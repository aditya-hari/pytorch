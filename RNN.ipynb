{
 "cells": [
  {
   "cell_type": "code",
   "execution_count": 142,
   "metadata": {},
   "outputs": [],
   "source": [
    "from __future__ import unicode_literals, print_function\n",
    "import io\n",
    "import glob\n",
    "import os\n",
    "import string \n",
    "import unicodedata\n",
    "import random \n",
    "import time \n",
    "from sklearn.model_selection import train_test_split\n",
    "\n",
    "import matplotlib.pyplot as plt\n",
    "import torch\n",
    "import torch.nn as nn\n",
    "import torch.optim as optim\n",
    "\n",
    "random.seed(0)"
   ]
  },
  {
   "cell_type": "code",
   "execution_count": 3,
   "metadata": {},
   "outputs": [],
   "source": [
    "device = torch.device(\"cuda:0\" if torch.cuda.is_available() else \"cpu\")"
   ]
  },
  {
   "cell_type": "code",
   "execution_count": 4,
   "metadata": {},
   "outputs": [],
   "source": [
    "all_letters = string.ascii_letters+\" .,;'\"\n",
    "n_letters = len(all_letters)"
   ]
  },
  {
   "cell_type": "code",
   "execution_count": 44,
   "metadata": {},
   "outputs": [],
   "source": [
    "def unicode_to_ascii(s):\n",
    "    return ''.join(\n",
    "        c for c in unicodedata.normalize('NFD', s)\n",
    "        if unicodedata.category(c) != 'Mn'\n",
    "        and c in all_letters\n",
    "    )\n",
    "\n",
    "def read_file(file):\n",
    "    f = open(file, encoding='utf-8')\n",
    "    lines = f.readlines()\n",
    "    return [unicode_to_ascii(i) for i in lines]\n",
    "                 \n",
    "data = {}\n",
    "all_cats = []\n",
    "\n",
    "files = glob.glob('data/nlp_data/ndata/names/*.txt')\n",
    "for file in files:\n",
    "    cat = file.split('/')[-1][:-4]\n",
    "    lines = read_file(file)\n",
    "    data[cat] = lines\n",
    "    all_cats.append(cat)\n",
    "\n",
    "n_cats = len(all_cats)"
   ]
  },
  {
   "cell_type": "code",
   "execution_count": 55,
   "metadata": {},
   "outputs": [
    {
     "data": {
      "text/plain": [
       "20074"
      ]
     },
     "execution_count": 55,
     "metadata": {},
     "output_type": "execute_result"
    }
   ],
   "source": [
    "sum([len(data[i]) for i in data])"
   ]
  },
  {
   "cell_type": "code",
   "execution_count": 7,
   "metadata": {},
   "outputs": [
    {
     "name": "stdout",
     "output_type": "stream",
     "text": [
      "torch.Size([4, 1, 57])\n",
      "tensor([[[0., 0., 0., 0., 0., 0., 0., 0., 0., 0., 0., 0., 0., 0., 0., 0., 0.,\n",
      "          0., 0., 0., 0., 0., 0., 0., 0., 0., 1., 0., 0., 0., 0., 0., 0., 0.,\n",
      "          0., 0., 0., 0., 0., 0., 0., 0., 0., 0., 0., 0., 0., 0., 0., 0., 0.,\n",
      "          0., 0., 0., 0., 0., 0.]],\n",
      "\n",
      "        [[0., 0., 0., 1., 0., 0., 0., 0., 0., 0., 0., 0., 0., 0., 0., 0., 0.,\n",
      "          0., 0., 0., 0., 0., 0., 0., 0., 0., 0., 0., 0., 0., 0., 0., 0., 0.,\n",
      "          0., 0., 0., 0., 0., 0., 0., 0., 0., 0., 0., 0., 0., 0., 0., 0., 0.,\n",
      "          0., 0., 0., 0., 0., 0.]],\n",
      "\n",
      "        [[1., 0., 0., 0., 0., 0., 0., 0., 0., 0., 0., 0., 0., 0., 0., 0., 0.,\n",
      "          0., 0., 0., 0., 0., 0., 0., 0., 0., 0., 0., 0., 0., 0., 0., 0., 0.,\n",
      "          0., 0., 0., 0., 0., 0., 0., 0., 0., 0., 0., 0., 0., 0., 0., 0., 0.,\n",
      "          0., 0., 0., 0., 0., 0.]],\n",
      "\n",
      "        [[0., 0., 0., 0., 0., 0., 0., 0., 0., 0., 0., 0., 1., 0., 0., 0., 0.,\n",
      "          0., 0., 0., 0., 0., 0., 0., 0., 0., 0., 0., 0., 0., 0., 0., 0., 0.,\n",
      "          0., 0., 0., 0., 0., 0., 0., 0., 0., 0., 0., 0., 0., 0., 0., 0., 0.,\n",
      "          0., 0., 0., 0., 0., 0.]]])\n"
     ]
    }
   ],
   "source": [
    "letter_to_idx = {j: i for i,j in enumerate(all_letters)}\n",
    "\n",
    "def line_to_tensor(line):\n",
    "    tensor = torch.zeros(len(line), 1, n_letters)\n",
    "    for i, letter in enumerate(line):\n",
    "        tensor[i][0][letter_to_idx[letter]] = 1\n",
    "    return tensor\n",
    "\n",
    "print(line_to_tensor('Adam').size())\n",
    "print(line_to_tensor(\"Adam\"))"
   ]
  },
  {
   "cell_type": "code",
   "execution_count": 131,
   "metadata": {},
   "outputs": [],
   "source": [
    "class RNN(nn.Module):\n",
    "    def __init__(self, input_size, hidden_size, output_size):\n",
    "        super(RNN,self).__init__()\n",
    "        \n",
    "        self.hidden_size = hidden_size\n",
    "        self.i2h = nn.Linear(input_size+hidden_size, hidden_size)\n",
    "        self.i2o = nn.Linear(input_size+hidden_size, output_size)\n",
    "        self.softmax = nn.LogSoftmax(dim = 1)\n",
    "        \n",
    "    def forward(self, x, hidden):\n",
    "        combined = torch.cat((x, hidden), 1).to(device)\n",
    "        hidden = self.i2h(combined)\n",
    "        output = self.i2o(combined)\n",
    "        output = self.softmax(output)\n",
    "        return output, hidden\n",
    "    \n",
    "    def init_hidden(self):\n",
    "        return torch.zeros(1, self.hidden_size)\n",
    "\n",
    "def get_model(n_hidden = 128):\n",
    "    rnn = RNN(n_letters, n_hidden, n_cats)\n",
    "    rnn.to(device)\n",
    "    return rnn"
   ]
  },
  {
   "cell_type": "code",
   "execution_count": 129,
   "metadata": {},
   "outputs": [
    {
     "name": "stdout",
     "output_type": "stream",
     "text": [
      "torch.Size([4, 1, 57])\n",
      "torch.Size([1, 57])\n",
      "tensor([[-2.8496, -2.8456, -2.9160, -2.7991, -2.9318, -2.8080, -2.9184, -2.8699,\n",
      "         -2.9236, -2.8663, -2.9177, -2.8635, -2.9112, -2.9037, -2.8667, -2.9454,\n",
      "         -2.9864, -2.9239]], grad_fn=<LogSoftmaxBackward>)\n"
     ]
    }
   ],
   "source": [
    "sample = line_to_tensor(\"Adam\")\n",
    "print(sample.size())\n",
    "letter = sample[0]\n",
    "print(letter.size())\n",
    "hidden = torch.zeros(1, n_hidden)\n",
    "\n",
    "out, next_hidden = rnn(letter, hidden)\n",
    "print(out)"
   ]
  },
  {
   "cell_type": "code",
   "execution_count": 35,
   "metadata": {},
   "outputs": [],
   "source": [
    "def cat_from_output(output):\n",
    "    _, top = torch.max(output, dim = 1)\n",
    "    idx = top.item()\n",
    "    return all_cats[idx], idx"
   ]
  },
  {
   "cell_type": "code",
   "execution_count": 36,
   "metadata": {},
   "outputs": [
    {
     "name": "stdout",
     "output_type": "stream",
     "text": [
      "('Italian', 11)\n"
     ]
    }
   ],
   "source": [
    "print(cat_from_output(out))"
   ]
  },
  {
   "cell_type": "code",
   "execution_count": 130,
   "metadata": {},
   "outputs": [],
   "source": [
    "def get_train_data():\n",
    "    X, y = [], []\n",
    "    for category in data:\n",
    "        for line in data[category]:\n",
    "            label = all_cats.index(category)\n",
    "            inputs = line_to_tensor(line)\n",
    "            X.append(inputs)\n",
    "            y.append(label)\n",
    "    return X, y"
   ]
  },
  {
   "cell_type": "code",
   "execution_count": 87,
   "metadata": {},
   "outputs": [],
   "source": [
    "X, y = get_train_data()\n",
    "X_train, X_test, y_train, y_test = train_test_split(X, y, shuffle = True, stratify = y, test_size = 0.1)"
   ]
  },
  {
   "cell_type": "code",
   "execution_count": 89,
   "metadata": {},
   "outputs": [
    {
     "name": "stdout",
     "output_type": "stream",
     "text": [
      "[tensor([17]), tensor([17]), tensor([3])] [tensor([17]), tensor([17]), tensor([17])]\n"
     ]
    }
   ],
   "source": [
    "for y in [y_train, y_test]:\n",
    "    for i, label in enumerate(y):\n",
    "        y[i] = torch.tensor([label], dtype = torch.long)"
   ]
  },
  {
   "cell_type": "code",
   "execution_count": 112,
   "metadata": {},
   "outputs": [
    {
     "name": "stdout",
     "output_type": "stream",
     "text": [
      "tensor([17])\n"
     ]
    }
   ],
   "source": [
    "print(y_train[0])"
   ]
  },
  {
   "cell_type": "code",
   "execution_count": 119,
   "metadata": {},
   "outputs": [],
   "source": [
    "train_data = list(zip(X_train, y_train))\n",
    "test_data = list(zip(X_test, y_test))"
   ]
  },
  {
   "cell_type": "code",
   "execution_count": 133,
   "metadata": {},
   "outputs": [],
   "source": [
    "def train(model, optimizer, epochs):\n",
    "    start = time.time()\n",
    "    \n",
    "    train_losses = []\n",
    "    train_acc = []\n",
    "    eval_losses = []\n",
    "    eval_acc = []\n",
    "    \n",
    "    for epoch in range(epochs):\n",
    "        print(f'Epoch - {epoch+1}/{epochs}')\n",
    "        print('-'*20)\n",
    "        \n",
    "        for phase in ['train', 'eval']:\n",
    "            running_loss = 0.0\n",
    "            running_correct = 0\n",
    "            \n",
    "            e_start = time.time()\n",
    "            if phase == 'train':\n",
    "                for data in train_data:\n",
    "                    inputs, labels = data\n",
    "                    labels =  labels.to(device)\n",
    "                    hidden = model.init_hidden()\n",
    "                    \n",
    "                    optimizer.zero_grad()\n",
    "\n",
    "                    for i in range(inputs.size()[0]):\n",
    "                        letter = inputs[i][0].unsqueeze(0)\n",
    "                        output, hidden = model(letter, hidden)\n",
    "\n",
    "                    _, pred = torch.max(output, dim = 1)\n",
    "                    loss = criterion(output, labels)\n",
    "                    loss.backward()\n",
    "                    optimizer.step()\n",
    "\n",
    "                    running_loss += loss.item()\n",
    "                    running_correct += torch.sum(pred == labels.data)\n",
    "                \n",
    "                epoch_loss = running_loss/len(X_train)\n",
    "                acc = (running_correct.double()/len(X_train))*100\n",
    "                \n",
    "                train_losses.append(epoch_loss)\n",
    "                train_acc.append(acc)\n",
    "            \n",
    "            else:\n",
    "                with torch.no_grad():\n",
    "                    for data in test_data:\n",
    "                        inputs, labels = data\n",
    "                        labels =  labels.to(device)\n",
    "                        hidden = model.init_hidden()\n",
    "\n",
    "                        optimizer.zero_grad()\n",
    "\n",
    "                        for i in range(inputs.size()[0]):\n",
    "                            letter = inputs[i][0].unsqueeze(0)\n",
    "                            output, hidden = model(letter, hidden)\n",
    "\n",
    "                        _, pred = torch.max(output, dim = 1)\n",
    "                        loss = criterion(output, labels)\n",
    "\n",
    "                        running_loss += loss.item()\n",
    "                        running_correct += torch.sum(pred == labels.data)                \n",
    "\n",
    "                epoch_loss = running_loss/len(X_test)\n",
    "                acc = (running_correct.double()/len(X_test))*100\n",
    "                \n",
    "                eval_losses.append(epoch_loss)\n",
    "                eval_acc.append(acc)\n",
    "                \n",
    "            e_end = time.time()-e_start\n",
    "            print(f'{phase} : loss - {epoch_loss:3.2f} acc - {acc:3.2f} , Time - {e_end:.2f}')\n",
    "        \n",
    "    end = time.time() - start\n",
    "    print(f'Training time - {end:.2f}')\n",
    "    return model, [train_losses, train_acc, eval_losses, eval_acc]"
   ]
  },
  {
   "cell_type": "code",
   "execution_count": 140,
   "metadata": {},
   "outputs": [
    {
     "name": "stdout",
     "output_type": "stream",
     "text": [
      "RNN(\n",
      "  (i2h): Linear(in_features=185, out_features=128, bias=True)\n",
      "  (i2o): Linear(in_features=185, out_features=18, bias=True)\n",
      "  (softmax): LogSoftmax()\n",
      ")\n"
     ]
    }
   ],
   "source": [
    "rnn = get_model()\n",
    "criterion = nn.NLLLoss()\n",
    "optimizer = optim.Adam(rnn.parameters(), lr = .001)\n",
    "print(rnn)"
   ]
  },
  {
   "cell_type": "code",
   "execution_count": 141,
   "metadata": {},
   "outputs": [
    {
     "name": "stdout",
     "output_type": "stream",
     "text": [
      "Epoch - 1/5\n",
      "--------------------\n",
      "train : loss - 1.17 acc - 65.81 , Time - 64.55\n",
      "eval : loss - 0.96 acc - 70.27 , Time - 1.51\n",
      "Epoch - 2/5\n",
      "--------------------\n",
      "train : loss - 0.93 acc - 71.36 , Time - 60.76\n",
      "eval : loss - 0.89 acc - 71.51 , Time - 1.38\n",
      "Epoch - 3/5\n",
      "--------------------\n",
      "train : loss - 0.88 acc - 72.48 , Time - 57.92\n",
      "eval : loss - 0.87 acc - 72.21 , Time - 1.46\n",
      "Epoch - 4/5\n",
      "--------------------\n",
      "train : loss - 0.85 acc - 73.29 , Time - 64.63\n",
      "eval : loss - 0.87 acc - 73.06 , Time - 1.48\n",
      "Epoch - 5/5\n",
      "--------------------\n",
      "train : loss - 0.83 acc - 73.86 , Time - 43.86\n",
      "eval : loss - 0.83 acc - 74.65 , Time - 1.37\n",
      "Training time - 298.93\n"
     ]
    }
   ],
   "source": [
    "trained_model, metrics = train(rnn, optimizer, 5)"
   ]
  },
  {
   "cell_type": "code",
   "execution_count": 154,
   "metadata": {},
   "outputs": [
    {
     "data": {
      "text/plain": [
       "[<matplotlib.lines.Line2D at 0x7f6a9fc41cc0>]"
      ]
     },
     "execution_count": 154,
     "metadata": {},
     "output_type": "execute_result"
    },
    {
     "data": {
      "image/png": "[encoded data removed]",
      "text/plain": [
       "<Figure size 432x288 with 1 Axes>"
      ]
     },
     "metadata": {
      "needs_background": "light"
     },
     "output_type": "display_data"
    }
   ],
   "source": [
    "fig, ax = plt.subplots()\n",
    "ax.plot(metrics[0])\n",
    "ax.plot(metrics[2])"
   ]
  },
  {
   "cell_type": "code",
   "execution_count": null,
   "metadata": {},
   "outputs": [],
   "source": []
  }
 ],
 "metadata": {
  "kernelspec": {
   "display_name": "Python 3",
   "language": "python",
   "name": "python3"
  },
  "language_info": {
   "codemirror_mode": {
    "name": "ipython",
    "version": 3
   },
   "file_extension": ".py",
   "mimetype": "text/x-python",
   "name": "python",
   "nbconvert_exporter": "python",
   "pygments_lexer": "ipython3",
   "version": "3.7.3"
  }
 },
 "nbformat": 4,
 "nbformat_minor": 4
}
